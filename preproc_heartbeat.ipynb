{
 "cells": [
  {
   "cell_type": "code",
   "execution_count": 1,
   "metadata": {},
   "outputs": [],
   "source": [
    "from scipy.io import loadmat\n",
    "from sklearn import preprocessing\n",
    "from sklearn import svm\n",
    "from sklearn import metrics\n",
    "import csv\n",
    "\n",
    "import numpy as np\n",
    "\n",
    "import nussvm\n",
    "import s3vmad\n",
    "from scipy.io import arff\n",
    "import pandas as pd\n",
    "\n",
    "import matplotlib.pyplot as plt "
   ]
  },
  {
   "cell_type": "code",
   "execution_count": 2,
   "metadata": {},
   "outputs": [
    {
     "name": "stdout",
     "output_type": "stream",
     "text": [
      "Column names: Index(['Heartbeat', 'target'], dtype='object')\n"
     ]
    }
   ],
   "source": [
    "# Load your ARFF file\n",
    "train_data, _ = arff.loadarff('data/Heartbeat/Heartbeat_TRAIN.arff')\n",
    "# Convert to a pandas DataFrame\n",
    "train_data = pd.DataFrame(train_data)\n",
    "\n",
    "test_data, _ = arff.loadarff('data/Heartbeat/Heartbeat_TEST.arff')\n",
    "# Convert to a pandas DataFrame\n",
    "test_data = pd.DataFrame(test_data)\n",
    "\n",
    "# Get the column names\n",
    "column_names = train_data.columns\n",
    "print(\"Column names:\", column_names)\n"
   ]
  },
  {
   "cell_type": "code",
   "execution_count": 3,
   "metadata": {},
   "outputs": [],
   "source": [
    "train_data_ecg = []\n",
    "\n",
    "for ts in train_data['Heartbeat']:\n",
    "    train_data_ecg.append(np.frombuffer(ts, dtype=np.float64))\n",
    "\n",
    "train_data_ecg = np.array(train_data_ecg)\n",
    "\n",
    "test_data_ecg = []\n",
    "\n",
    "for ts in test_data['Heartbeat']:\n",
    "    test_data_ecg.append(np.frombuffer(ts, dtype=np.float64))\n",
    "\n",
    "test_data_ecg = np.array(test_data_ecg)"
   ]
  },
  {
   "cell_type": "code",
   "execution_count": 4,
   "metadata": {},
   "outputs": [],
   "source": [
    "train_labels_ecg = train_data['target']\n",
    "\n",
    "# Replace normal with 0 and abnormal with 1\n",
    "\n",
    "train_labels_ecg = train_labels_ecg.replace(to_replace=b'normal', value=1)\n",
    "train_labels_ecg = train_labels_ecg.replace(to_replace=b'abnormal', value=-1)\n",
    "\n",
    "\n",
    "test_labels_ecg = test_data['target']\n",
    "\n",
    "# Replace normal with 0 and abnormal with 1\n",
    "\n",
    "test_labels_ecg = test_labels_ecg.replace(to_replace=b'normal', value=1)\n",
    "test_labels_ecg = test_labels_ecg.replace(to_replace=b'abnormal', value=-1)\n",
    "\n",
    "\n"
   ]
  },
  {
   "cell_type": "code",
   "execution_count": 5,
   "metadata": {},
   "outputs": [
    {
     "name": "stdout",
     "output_type": "stream",
     "text": [
      "Number of normal heartbeats in the training set: 57\n",
      "Number of abnormal heartbeats in the training set: 147\n"
     ]
    }
   ],
   "source": [
    "# Number of normal and abnormal heartbeats in the training set\n",
    "\n",
    "print(\"Number of normal heartbeats in the training set:\", np.sum(train_labels_ecg == 1))\n",
    "print(\"Number of abnormal heartbeats in the training set:\", np.sum(train_labels_ecg == -1))"
   ]
  },
  {
   "cell_type": "code",
   "execution_count": 6,
   "metadata": {},
   "outputs": [
    {
     "name": "stdout",
     "output_type": "stream",
     "text": [
      "Number of normal heartbeats in the training set: 57\n",
      "Number of abnormal heartbeats in the training set: 148\n"
     ]
    }
   ],
   "source": [
    "# Number of normal and abnormal heartbeats in the training set\n",
    "\n",
    "print(\"Number of normal heartbeats in the training set:\", np.sum(test_labels_ecg == 1))\n",
    "print(\"Number of abnormal heartbeats in the training set:\", np.sum(test_labels_ecg == -1))"
   ]
  },
  {
   "cell_type": "code",
   "execution_count": 7,
   "metadata": {},
   "outputs": [
    {
     "name": "stdout",
     "output_type": "stream",
     "text": [
      "Heartbeat data\n",
      "Train data shape:  (204, 24705)\n",
      "Train labels shape:  (204,)\n",
      "Test data shape:  (205, 24705)\n",
      "Test labels shape:  (205,)\n"
     ]
    }
   ],
   "source": [
    "print(\"Heartbeat data\")\n",
    "print(\"Train data shape: \", train_data_ecg.shape)\n",
    "print(\"Train labels shape: \", train_labels_ecg.shape)\n",
    "print(\"Test data shape: \", test_data_ecg.shape)\n",
    "print(\"Test labels shape: \", test_labels_ecg.shape)"
   ]
  },
  {
   "cell_type": "code",
   "execution_count": 8,
   "metadata": {},
   "outputs": [],
   "source": [
    "# Plot all the data, in blue if it's normal, in red if it's abnormal\n",
    "\n",
    "\n",
    "data = []\n",
    "data_test = []\n",
    "\n",
    "for i in range(len(train_data_ecg)):\n",
    "    # Reshape\n",
    "\n",
    "    data.append(train_data_ecg[i].reshape(-1, 61))\n",
    "    data_test.append(test_data_ecg[i].reshape(-1, 61))\n",
    "\n",
    "data = np.array(data)\n",
    "data_test = np.array(data_test)\n",
    "\n"
   ]
  },
  {
   "cell_type": "code",
   "execution_count": 9,
   "metadata": {},
   "outputs": [
    {
     "data": {
      "text/plain": [
       "(204, 405, 61)"
      ]
     },
     "execution_count": 9,
     "metadata": {},
     "output_type": "execute_result"
    }
   ],
   "source": [
    "data_test.shape"
   ]
  },
  {
   "cell_type": "code",
   "execution_count": 10,
   "metadata": {},
   "outputs": [],
   "source": [
    "\n",
    "\n",
    "# Assuming 'data' is your (204, 405, 61) numpy array\n",
    "# Shape of data: (instances, time_steps, variates)\n",
    "\n",
    "# Standardize each time series (variate) individually\n",
    "for i in range(data.shape[2]):  # Loop over each variate\n",
    "    # Calculate mean and std for each variate across all instances and time steps\n",
    "    mean = data[:, :, i].mean(axis=1, keepdims=True)\n",
    "    std = data[:, :, i].std(axis=1, keepdims=True)\n",
    "\n",
    "    # Avoid division by zero in case of constant time series\n",
    "    std[std == 0] = 1\n",
    "\n",
    "    # Standardize\n",
    "    data[:, :, i] = (data[:, :, i] - mean) / std\n",
    "    data_test[:, :, i] = (data_test[:, :, i] - mean) / std\n",
    "\n",
    "    # Apply denoising with rolling average and median filter\n",
    "    data[:, :, i] = pd.DataFrame(data[:, :, i]).rolling(3, center=True, axis=1).mean().fillna(0).values\n",
    "    data_test[:, :, i] = pd.DataFrame(data_test[:, :, i]).rolling(3, center=True, axis=1).mean().fillna(0).values\n",
    "\n",
    "\n",
    "# Reshape to (instances, time_steps*variates)\n",
    "    \n",
    "data_ecg = data.reshape(data.shape[0], -1)\n",
    "\n"
   ]
  },
  {
   "cell_type": "code",
   "execution_count": 11,
   "metadata": {},
   "outputs": [],
   "source": [
    "[n_ecg,d_ecg] = train_data_ecg.shape\n",
    "n_ano_ecg = np.sum(train_labels_ecg == -1)\n",
    "n_norm_ecg = np.sum(train_labels_ecg == 1)\n",
    "l_ano_ecg = 60\n",
    "l_norm_ecg = 40\n",
    "l_ecg = l_ano_ecg + l_norm_ecg\n",
    "\n"
   ]
  },
  {
   "cell_type": "code",
   "execution_count": 12,
   "metadata": {},
   "outputs": [
    {
     "name": "stdout",
     "output_type": "stream",
     "text": [
      "Mean balanced accuracy:  0.6658387039026137\n",
      "Std balanced accuracy:  0.04877673649263416\n",
      "Max balanced accuracy:  0.7577873254564984\n"
     ]
    }
   ],
   "source": [
    "N = 200\n",
    "\n",
    "ba_acc = np.zeros(N)\n",
    "\n",
    "for i in range(N):\n",
    "    ind_norm_ecg = np.random.choice(np.arange(n_norm_ecg), l_norm_ecg, replace=False)\n",
    "    ind_ano_ecg = np.random.choice(np.arange(n_ano_ecg), l_ano_ecg, replace=False)\n",
    "\n",
    "    ind_labeled_ecg = np.sort(np.r_[np.array(np.where(train_labels_ecg == 1)).reshape(-1)[ind_norm_ecg], np.array(np.where(train_labels_ecg == -1)).reshape(-1)[ind_ano_ecg]])\n",
    "\n",
    "    Xl_ecg = data_ecg[ind_labeled_ecg,:]\n",
    "    yl_ecg = train_labels_ecg[ind_labeled_ecg]\n",
    "    X_temp_ecg = np.delete(data_ecg, ind_labeled_ecg, axis=0)\n",
    "    y_temp_ecg = np.delete(train_labels_ecg, ind_labeled_ecg, axis=0)\n",
    "    X = np.r_[Xl_ecg, X_temp_ecg]\n",
    "    y = np.r_[yl_ecg, y_temp_ecg]\n",
    "    nu1_ecg = 0.05\n",
    "    # nu2_ecg is the fraction of outliers in the unlabeled data\n",
    "    nu2_ecg = len(np.where(y_temp_ecg == -1)[0])/len(y_temp_ecg)\n",
    "    gamma_ecg = 1/(2*np.median(metrics.pairwise.pairwise_distances(X, metric='euclidean'))**2)\n",
    "\n",
    "    gamma_ocsvm_ecg = 1/(2*np.median(metrics.pairwise.pairwise_distances(data_ecg, metric='euclidean'))**2)\n",
    "    gamma_nusvm = 1/(2*np.median(metrics.pairwise.euclidean_distances(data_ecg[np.where(train_labels_ecg==1)[0]]))**2) # Kernel parameter\n",
    "\n",
    "    C0 = 1/(n_ecg-l_ecg+1)\n",
    "    C1 = nu2_ecg/(n_ecg-l_ecg+1)\n",
    "    C2 = nu1_ecg/(l_ecg)\n",
    "\n",
    "    # convert yl_ecg into a column vector of -1 and 1\n",
    "    yl_ecg = np.where(yl_ecg==-1, -1, 1).reshape(-1,1)\n",
    "\n",
    "    clf_nuSSVM_ecg = nussvm.nuSSVM(kernel='rbf', nu1=nu1_ecg, gamma=gamma_ecg, nu2=nu2_ecg)\n",
    "\n",
    "    clf_nuSSVM_ecg.fit(X, yl_ecg, verbose=False)\n",
    "    labels = clf_nuSSVM_ecg.predict(data_ecg)\n",
    "\n",
    "    ba_acc[i] = metrics.balanced_accuracy_score(train_labels_ecg, labels)\n",
    "\n",
    "print(\"Mean balanced accuracy: \", np.mean(ba_acc))\n",
    "print(\"Std balanced accuracy: \", np.std(ba_acc))\n",
    "print(\"Max balanced accuracy: \", np.max(ba_acc))\n"
   ]
  },
  {
   "cell_type": "code",
   "execution_count": 13,
   "metadata": {},
   "outputs": [
    {
     "name": "stdout",
     "output_type": "stream",
     "text": [
      "Best nu1:  0.01\n",
      "Best nu2:  0.17999999999999997\n",
      "Best balanced accuracy:  0.6987110633727175\n"
     ]
    }
   ],
   "source": [
    "# Grid search for the best parameters for the nuSSVM with rbf kernel keep the best balanced accuracy\n",
    "\n",
    "nu1 = np.arange(0.01,0.10,0.01)\n",
    "nu2 = np.arange(0.10,0.35,0.01)\n",
    "\n",
    "best_ba = 0\n",
    "best_nu1 = 0\n",
    "best_nu2 = 0\n",
    "\n",
    "for n1 in nu1:\n",
    "    for n2 in nu2:\n",
    "        clf_nuSSVM_ecg = nussvm.nuSSVM(kernel='rbf', nu1=n1, gamma=gamma_ecg, nu2=n2)\n",
    "        clf_nuSSVM_ecg.fit(X, yl_ecg, verbose=False)\n",
    "        labels_nuSSVM_ecg = clf_nuSSVM_ecg.predict(data_ecg)\n",
    "        # Balanced accuracy\n",
    "        ba_acc = metrics.balanced_accuracy_score(train_labels_ecg, labels_nuSSVM_ecg)\n",
    "        # Print every 20 iterations\n",
    "        if (n1*100)%20 == 0 and (n2*100)%20 == 0:\n",
    "            print('nu1: ', n1, ' nu2: ', n2, ' Balanced accuracy: ', ba_acc)\n",
    "        if ba_acc > best_ba:\n",
    "            best_ba = ba_acc\n",
    "            best_nu1 = n1\n",
    "            best_nu2 = n2\n",
    "\n",
    "print('Best nu1: ', best_nu1)\n",
    "print('Best nu2: ', best_nu2)\n",
    "print('Best balanced accuracy: ', best_ba)"
   ]
  },
  {
   "cell_type": "code",
   "execution_count": 14,
   "metadata": {},
   "outputs": [],
   "source": [
    "# Fix the random seed\n",
    "np.random.seed(1)\n",
    "ind_norm_ecg = np.random.choice(np.arange(n_norm_ecg), l_norm_ecg, replace=False)\n",
    "ind_ano_ecg = np.random.choice(np.arange(n_ano_ecg), l_ano_ecg, replace=False)\n",
    "\n",
    "ind_labeled_ecg = np.sort(np.r_[np.array(np.where(train_labels_ecg == 1)).reshape(-1)[ind_norm_ecg], np.array(np.where(train_labels_ecg == -1)).reshape(-1)[ind_ano_ecg]])\n",
    "\n",
    "Xl_ecg = data_ecg[ind_labeled_ecg,:]\n",
    "yl_ecg = train_labels_ecg[ind_labeled_ecg]\n",
    "X_temp_ecg = np.delete(data_ecg, ind_labeled_ecg, axis=0)\n",
    "y_temp_ecg = np.delete(train_labels_ecg, ind_labeled_ecg, axis=0)\n",
    "X = np.r_[Xl_ecg, X_temp_ecg]\n",
    "y = np.r_[yl_ecg, y_temp_ecg]\n",
    "nu1_ecg = 0.01\n",
    "# nu2_ecg is the fraction of outliers in the unlabeled data\n",
    "nu2_ecg = 0.24\n",
    "gamma_ecg = 1/(2*np.median(metrics.pairwise.pairwise_distances(X, metric='euclidean'))**2)\n",
    "\n",
    "gamma_ocsvm_ecg = 1/(2*np.median(metrics.pairwise.pairwise_distances(data_ecg, metric='euclidean'))**2)\n",
    "gamma_nusvm = 1/(2*np.median(metrics.pairwise.euclidean_distances(data_ecg[np.where(train_labels_ecg==1)[0]]))**2) # Kernel parameter\n",
    "\n",
    "C0 = 1/(n_ecg-l_ecg+1)\n",
    "C1 = nu2_ecg/(n_ecg-l_ecg+1)\n",
    "C2 = nu1_ecg/(l_ecg)\n",
    "\n",
    "# convert yl_ecg into a column vector of -1 and 1\n",
    "yl_ecg = np.where(yl_ecg==-1, -1, 1).reshape(-1,1)"
   ]
  },
  {
   "cell_type": "code",
   "execution_count": 15,
   "metadata": {},
   "outputs": [],
   "source": [
    "#Train the model\n",
    "\n",
    "clf_nuSSVM_ecg = nussvm.nuSSVM(kernel='rbf', nu1=nu1_ecg, gamma=gamma_ecg, nu2=nu2_ecg)\n",
    "clf_ocsvm_ecg = svm.OneClassSVM(kernel='rbf', nu=nu2_ecg, gamma=gamma_ocsvm_ecg)\n",
    "clf_nusvm_ecg = svm.NuSVC(kernel='rbf', nu=nu1_ecg, gamma=gamma_nusvm)\n",
    "clf_s3vm_ecg = s3vmad.s3vmad(kernel='rbf', gamma = gamma_ecg, C0 = C0, C1 = C1, C2 = C2)\n",
    "\n",
    "\n",
    "clf_nuSSVM_ecg.fit(X, yl_ecg, verbose=False)\n",
    "clf_ocsvm_ecg.fit(X)\n",
    "clf_nusvm_ecg.fit(X, train_labels_ecg.ravel())\n",
    "clf_s3vm_ecg.fit(X, yl_ecg, verbose=False)  \n",
    "\n",
    "from sklearn import metrics\n",
    "import numpy as np\n",
    "\n",
    "def compute_metrics(labels_ecg, labels_nusvm_ecg, scores_nusvm_ecg):\n",
    "    # Accuracy\n",
    "    accuracy = metrics.accuracy_score(labels_ecg, labels_nusvm_ecg)\n",
    "\n",
    "    # Balanced Accuracy\n",
    "    balanced_accuracy = metrics.balanced_accuracy_score(labels_ecg,labels_nusvm_ecg )\n",
    "\n",
    "    # Precision and Recall with pos_label = -1\n",
    "    precision = metrics.precision_score(labels_ecg, labels_nusvm_ecg, pos_label=-1)\n",
    "    recall = metrics.recall_score(labels_ecg, labels_nusvm_ecg, pos_label=-1)\n",
    "\n",
    "    # ROC AUC Score\n",
    "    roc_auc = metrics.roc_auc_score(labels_ecg, scores_nusvm_ecg)\n",
    "\n",
    "    # Precision-Recall Curve\n",
    "    precision_curve, recall_curve, _ = metrics.precision_recall_curve(labels_ecg, -scores_nusvm_ecg, pos_label=-1)\n",
    "\n",
    "    # ROC Curve\n",
    "    fpr_curve, tpr_curve, _ = metrics.roc_curve(labels_ecg, -scores_nusvm_ecg, pos_label=-1)\n",
    "\n",
    "    # Confusion Matrix\n",
    "    tn, fp, fn, tp = metrics.confusion_matrix(-labels_ecg, -labels_nusvm_ecg).ravel()\n",
    "\n",
    "    # False Positive Rate\n",
    "    fpr = fp / (fp + tn)\n",
    "\n",
    "    return {\n",
    "        'accuracy': accuracy,\n",
    "        'balanced_accuracy': balanced_accuracy,\n",
    "        'precision': precision,\n",
    "        'recall': recall,\n",
    "        'roc_auc': roc_auc,\n",
    "        'precision_curve': precision_curve,\n",
    "        'recall_curve': recall_curve,\n",
    "        'fpr_curve': fpr_curve,\n",
    "        'tpr_curve': tpr_curve,\n",
    "        'confusion_matrix': {'tn': tn, 'fp': fp, 'fn': fn, 'tp': tp},\n",
    "        'fpr': fpr\n",
    "    }\n",
    "\n",
    "# Example usage\n",
    "# results = compute_metrics(labels_ecg, labels_nusvm_ecg, scores_nusvm_ecg)\n"
   ]
  },
  {
   "cell_type": "code",
   "execution_count": 16,
   "metadata": {},
   "outputs": [],
   "source": [
    "# Predict the labels of the test data\n",
    "\n",
    "labels_nuSSVM_ecg = clf_nuSSVM_ecg.predict(data_ecg)\n",
    "labels_ocsvm_ecg = clf_ocsvm_ecg.predict(data_ecg)\n",
    "labels_nusvm_ecg = clf_nusvm_ecg.predict(data_ecg)\n",
    "labels_s3vm_ecg = clf_s3vm_ecg.predict(data_ecg)\n",
    "\n",
    "scores_nuSSVM_ecg = clf_nuSSVM_ecg.compute_scores(data_ecg)\n",
    "scores_ocsvm_ecg = clf_ocsvm_ecg.decision_function(data_ecg)\n",
    "scores_nusvm_ecg = clf_nusvm_ecg.decision_function(data_ecg)\n",
    "scores_s3vm_ecg = clf_s3vm_ecg.compute_scores(data_ecg)\n",
    "\n",
    "results_nuSSVM_ecg = compute_metrics(train_labels_ecg, labels_nuSSVM_ecg, scores_nuSSVM_ecg)\n",
    "results_ocsvm_ecg = compute_metrics(train_labels_ecg, labels_ocsvm_ecg, scores_ocsvm_ecg)\n",
    "results_nusvm_ecg = compute_metrics(train_labels_ecg, labels_nusvm_ecg, scores_nusvm_ecg)\n",
    "results_s3vm_ecg = compute_metrics(train_labels_ecg, labels_s3vm_ecg, scores_s3vm_ecg)\n"
   ]
  },
  {
   "cell_type": "code",
   "execution_count": 17,
   "metadata": {},
   "outputs": [
    {
     "name": "stdout",
     "output_type": "stream",
     "text": [
      "    Model  Accuracy  Balanced Acc  Precision    Recall       AUC       FPR\n",
      "0  nuSSVM  0.509804      0.627641   0.898305  0.360544  0.743884  0.105263\n",
      "1   OCSVM  0.372549      0.484067   0.693878  0.231293  0.536341  0.263158\n",
      "2   NuSVM  0.833333      0.793054   0.884354  0.884354  0.842583  0.298246\n",
      "3    S3VM  0.357843      0.468493   0.666667  0.217687  0.558659  0.280702\n"
     ]
    }
   ],
   "source": [
    "import pandas as pd\n",
    "\n",
    "# Define your data\n",
    "data = {\n",
    "    'Model': ['nuSSVM', 'OCSVM', 'NuSVM', 'S3VM'],\n",
    "    'Accuracy': [results_nuSSVM_ecg['accuracy'], results_ocsvm_ecg['accuracy'], results_nusvm_ecg['accuracy'], results_s3vm_ecg['accuracy']],\n",
    "    'Balanced Acc': [results_nuSSVM_ecg['balanced_accuracy'], results_ocsvm_ecg['balanced_accuracy'], results_nusvm_ecg['balanced_accuracy'], results_s3vm_ecg['balanced_accuracy']],\n",
    "    'Precision': [results_nuSSVM_ecg['precision'], results_ocsvm_ecg['precision'], results_nusvm_ecg['precision'], results_s3vm_ecg['precision']],\n",
    "    'Recall': [results_nuSSVM_ecg['recall'], results_ocsvm_ecg['recall'], results_nusvm_ecg['recall'], results_s3vm_ecg['recall']],\n",
    "    'AUC': [results_nuSSVM_ecg['roc_auc'], results_ocsvm_ecg['roc_auc'], results_nusvm_ecg['roc_auc'], results_s3vm_ecg['roc_auc']],\n",
    "    'FPR': [results_nuSSVM_ecg['fpr'], results_ocsvm_ecg['fpr'], results_nusvm_ecg['fpr'], results_s3vm_ecg['fpr']]\n",
    "}\n",
    "\n",
    "# Create DataFrame\n",
    "df = pd.DataFrame(data)\n",
    "\n",
    "# Print the DataFrame\n",
    "print(df)\n"
   ]
  },
  {
   "cell_type": "code",
   "execution_count": 18,
   "metadata": {},
   "outputs": [
    {
     "data": {
      "image/png": "[encoded data removed]",
      "text/plain": [
       "<Figure size 1000x500 with 2 Axes>"
      ]
     },
     "metadata": {},
     "output_type": "display_data"
    }
   ],
   "source": [
    "# Plot the ROC curve and the PR curve\n",
    "\n",
    "plt.figure(figsize=(10,5))\n",
    "plt.subplot(1,2,1)\n",
    "plt.plot(results_nuSSVM_ecg['fpr_curve'], results_nuSSVM_ecg['tpr_curve'])\n",
    "plt.plot(results_ocsvm_ecg['fpr_curve'], results_ocsvm_ecg['tpr_curve'])\n",
    "plt.plot(results_nusvm_ecg['fpr_curve'], results_nusvm_ecg['tpr_curve'])\n",
    "plt.plot(results_s3vm_ecg['fpr_curve'], results_s3vm_ecg['tpr_curve'])\n",
    "plt.plot([0,1],[0,1],'--')\n",
    "plt.xlabel('False Positive Rate')\n",
    "plt.ylabel('True Positive Rate')\n",
    "plt.title('ROC curve')\n",
    "plt.legend(['nuSSVM', 'OCSVM', 'NuSVM', 'S3VM'])\n",
    "plt.subplot(1,2,2)\n",
    "plt.plot(results_nuSSVM_ecg['recall_curve'], results_nuSSVM_ecg['precision_curve'])\n",
    "plt.plot(results_ocsvm_ecg['recall_curve'], results_ocsvm_ecg['precision_curve'])\n",
    "plt.plot(results_nusvm_ecg['recall_curve'], results_nusvm_ecg['precision_curve'])\n",
    "plt.plot(results_s3vm_ecg['recall_curve'], results_s3vm_ecg['precision_curve'])\n",
    "plt.xlabel('Recall')\n",
    "plt.ylabel('Precision')\n",
    "plt.title('PR curve')\n",
    "plt.legend(['nuSSVM', 'OCSVM', 'NuSVM', 'S3VM'])\n",
    "plt.show()\n",
    "\n"
   ]
  },
  {
   "cell_type": "code",
   "execution_count": null,
   "metadata": {},
   "outputs": [],
   "source": []
  }
 ],
 "metadata": {
  "kernelspec": {
   "display_name": "base",
   "language": "python",
   "name": "python3"
  },
  "language_info": {
   "codemirror_mode": {
    "name": "ipython",
    "version": 3
   },
   "file_extension": ".py",
   "mimetype": "text/x-python",
   "name": "python",
   "nbconvert_exporter": "python",
   "pygments_lexer": "ipython3",
   "version": "3.10.9"
  }
 },
 "nbformat": 4,
 "nbformat_minor": 2
}
